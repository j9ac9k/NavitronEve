{
 "cells": [
  {
   "cell_type": "code",
   "execution_count": 1,
   "metadata": {},
   "outputs": [
    {
     "name": "stderr",
     "output_type": "stream",
     "text": [
      "/Users/jpurcell/source/NavitronEve/jvenv_navitron_mac/lib/python3.6/site-packages/statsmodels/compat/pandas.py:56: FutureWarning: The pandas.core.datetools module is deprecated and will be removed in a future version. Please use the pandas.tseries module instead.\n",
      "  from pandas.core import datetools\n"
     ]
    }
   ],
   "source": [
    "## Note: please make sure navitron-crons is already installed in venv\n",
    "## https://www.alfredo.motta.name/create-isolated-jupyter-ipython-kernels-with-pyenv-and-virtualenv/\n",
    "from datetime import datetime, timedelta\n",
    "from IPython.display import display, Markdown\n",
    "import pandas as pd\n",
    "import numpy as np\n",
    "import plotnine\n",
    "\n",
    "import navitron_crons.connections as connections\n",
    "import navitron_crons.cli_core as cli_core\n",
    "\n",
    "CONN = connections.MongoConnection(cli_core.CONFIG)\n",
    "%matplotlib inline"
   ]
  },
  {
   "cell_type": "code",
   "execution_count": 4,
   "metadata": {},
   "outputs": [
    {
     "data": {
      "text/html": [
       "<div>\n",
       "<style>\n",
       "    .dataframe thead tr:only-child th {\n",
       "        text-align: right;\n",
       "    }\n",
       "\n",
       "    .dataframe thead th {\n",
       "        text-align: left;\n",
       "    }\n",
       "\n",
       "    .dataframe tbody tr th {\n",
       "        vertical-align: top;\n",
       "    }\n",
       "</style>\n",
       "<table border=\"1\" class=\"dataframe\">\n",
       "  <thead>\n",
       "    <tr style=\"text-align: right;\">\n",
       "      <th></th>\n",
       "      <th>cron_datetime</th>\n",
       "      <th>npc_kills</th>\n",
       "      <th>pod_kills</th>\n",
       "      <th>ship_jumps</th>\n",
       "      <th>ship_kills</th>\n",
       "      <th>system_id</th>\n",
       "    </tr>\n",
       "  </thead>\n",
       "  <tbody>\n",
       "    <tr>\n",
       "      <th>0</th>\n",
       "      <td>2017-10-20T23:10:57.947188</td>\n",
       "      <td>48</td>\n",
       "      <td>0</td>\n",
       "      <td>17</td>\n",
       "      <td>0</td>\n",
       "      <td>30034971</td>\n",
       "    </tr>\n",
       "    <tr>\n",
       "      <th>1</th>\n",
       "      <td>2017-10-20T23:10:57.947188</td>\n",
       "      <td>289</td>\n",
       "      <td>0</td>\n",
       "      <td>1</td>\n",
       "      <td>0</td>\n",
       "      <td>30003644</td>\n",
       "    </tr>\n",
       "    <tr>\n",
       "      <th>2</th>\n",
       "      <td>2017-10-20T23:10:57.947188</td>\n",
       "      <td>85</td>\n",
       "      <td>0</td>\n",
       "      <td>1165</td>\n",
       "      <td>0</td>\n",
       "      <td>30002765</td>\n",
       "    </tr>\n",
       "    <tr>\n",
       "      <th>3</th>\n",
       "      <td>2017-10-20T23:10:57.947188</td>\n",
       "      <td>630</td>\n",
       "      <td>0</td>\n",
       "      <td>58</td>\n",
       "      <td>0</td>\n",
       "      <td>30003026</td>\n",
       "    </tr>\n",
       "    <tr>\n",
       "      <th>4</th>\n",
       "      <td>2017-10-20T23:10:57.947188</td>\n",
       "      <td>73</td>\n",
       "      <td>0</td>\n",
       "      <td>24</td>\n",
       "      <td>0</td>\n",
       "      <td>30002247</td>\n",
       "    </tr>\n",
       "  </tbody>\n",
       "</table>\n",
       "</div>"
      ],
      "text/plain": [
       "                cron_datetime  npc_kills  pod_kills  ship_jumps  ship_kills  \\\n",
       "0  2017-10-20T23:10:57.947188         48          0          17           0   \n",
       "1  2017-10-20T23:10:57.947188        289          0           1           0   \n",
       "2  2017-10-20T23:10:57.947188         85          0        1165           0   \n",
       "3  2017-10-20T23:10:57.947188        630          0          58           0   \n",
       "4  2017-10-20T23:10:57.947188         73          0          24           0   \n",
       "\n",
       "   system_id  \n",
       "0   30034971  \n",
       "1   30003644  \n",
       "2   30002765  \n",
       "3   30003026  \n",
       "4   30002247  "
      ]
     },
     "metadata": {},
     "output_type": "display_data"
    }
   ],
   "source": [
    "with CONN as db_conn:\n",
    "    raw_system_data = list(db_conn['navitron_system_stats'].find(\n",
    "        {}, projection={'_id': False, 'metadata': False, 'write_recipt': False}))\n",
    "    \n",
    "system_jumps_df = pd.DataFrame(raw_system_data)\n",
    "display(system_jumps_df.head(5))"
   ]
  },
  {
   "cell_type": "code",
   "execution_count": null,
   "metadata": {},
   "outputs": [],
   "source": []
  }
 ],
 "metadata": {
  "kernelspec": {
   "display_name": "venv_navitron_mac",
   "language": "python",
   "name": "ipy_navitron_mac"
  },
  "language_info": {
   "codemirror_mode": {
    "name": "ipython",
    "version": 3
   },
   "file_extension": ".py",
   "mimetype": "text/x-python",
   "name": "python",
   "nbconvert_exporter": "python",
   "pygments_lexer": "ipython3",
   "version": "3.6.1"
  }
 },
 "nbformat": 4,
 "nbformat_minor": 2
}
